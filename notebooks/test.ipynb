{
 "cells": [
  {
   "cell_type": "code",
   "execution_count": 1,
   "metadata": {},
   "outputs": [],
   "source": [
    "import os\n",
    "os.environ[\"KERAS_BACKEND\"] = \"jax\"\n",
    "import keras_snn\n",
    "import numpy as np\n",
    "import keras"
   ]
  },
  {
   "cell_type": "code",
   "execution_count": 2,
   "metadata": {},
   "outputs": [],
   "source": [
    "data = np.random.randn(128, 32, 34, 34, 1)"
   ]
  },
  {
   "cell_type": "code",
   "execution_count": 3,
   "metadata": {},
   "outputs": [],
   "source": [
    "class SNN(keras.Layer):\n",
    "    def __init__(\n",
    "        self,\n",
    "        layer,\n",
    "        neuron,\n",
    "        return_sequences=False,\n",
    "        return_state=False,\n",
    "        unroll=False,\n",
    "    ):\n",
    "        super().__init__()\n",
    "        self.layer = keras.layers.TimeDistributed(layer)\n",
    "        self.neuron = keras.layers.RNN(\n",
    "            neuron,\n",
    "            return_sequences=return_sequences,\n",
    "            return_state=return_state,\n",
    "            unroll=unroll,\n",
    "        )\n",
    "\n",
    "    def build(self, input_shape):\n",
    "        self.layer.build(input_shape)\n",
    "        self.neuron.build(self.layer.compute_output_shape(input_shape))\n",
    "        self.built = True\n",
    "\n",
    "    def call(self, inputs):\n",
    "        x = self.layer(inputs)\n",
    "        x = self.neuron(x)\n",
    "        return x"
   ]
  },
  {
   "cell_type": "code",
   "execution_count": 4,
   "metadata": {},
   "outputs": [],
   "source": [
    "class LICell(keras.Layer):\n",
    "    def __init__(self):\n",
    "        super().__init__()\n",
    "        self.state_size = -1\n",
    "\n",
    "    def call(self, x, v):\n",
    "        v_shape = v[0].shape\n",
    "        v = v[0].reshape(x.shape)\n",
    "        x = x + v\n",
    "        return x, [x.reshape(v_shape)]"
   ]
  },
  {
   "cell_type": "code",
   "execution_count": 16,
   "metadata": {},
   "outputs": [
    {
     "data": {
      "text/plain": [
       "Array([[ 13.466108 ,   6.1763525, -21.269682 ,   4.532126 ,  11.807274 ,\n",
       "         28.237759 ,  10.52721  , -85.31996  , -44.83778  , -17.812338 ]],      dtype=float32)"
      ]
     },
     "execution_count": 16,
     "metadata": {},
     "output_type": "execute_result"
    }
   ],
   "source": [
    "model = keras.Sequential()\n",
    "model.add(\n",
    "    keras.layers.TimeDistributed(\n",
    "        keras.layers.Conv2D(\n",
    "            32,\n",
    "            (3, 3),\n",
    "            strides=2,\n",
    "            padding=\"same\",\n",
    "        )\n",
    "    )\n",
    ")\n",
    "model.add(\n",
    "    keras.layers.RNN(\n",
    "        LICell((17 * 17 * 32)),\n",
    "        return_sequences=True,\n",
    "        unroll=True,\n",
    "    )\n",
    ")\n",
    "model.add(keras.layers.TimeDistributed(keras.layers.Flatten()))\n",
    "model.add(keras.layers.TimeDistributed(keras.layers.Dense(10)))\n",
    "model.add(keras.layers.RNN(LICell(10), unroll=True))\n",
    "\n",
    "\n",
    "model(keras.random.normal((1, 32, 34, 34, 1)))"
   ]
  },
  {
   "cell_type": "code",
   "execution_count": 6,
   "metadata": {},
   "outputs": [
    {
     "name": "stdout",
     "output_type": "stream",
     "text": [
      "(None, None, 34, 34, 1)\n",
      "(None, None, 17, 17, 32)\n",
      "(None, None, 9248)\n",
      "(None, None, 10)\n"
     ]
    },
    {
     "data": {
      "text/plain": [
       "<KerasTensor shape=(None, None, 10), dtype=float32, sparse=False, name=keras_tensor_9>"
      ]
     },
     "execution_count": 6,
     "metadata": {},
     "output_type": "execute_result"
    }
   ],
   "source": [
    "def model():\n",
    "    x = keras.layers.Input(shape=(None, 34, 34, 1))\n",
    "    print(x.shape)\n",
    "    x = keras.layers.TimeDistributed(\n",
    "        keras.layers.Conv2D(\n",
    "            32,\n",
    "            kernel_size=3,\n",
    "            strides=2,\n",
    "            padding=\"SAME\",\n",
    "        )\n",
    "    )(x)\n",
    "    print(x.shape)\n",
    "    x = keras.layers.TimeDistributed(keras.layers.Flatten())(x)\n",
    "    print(x.shape)\n",
    "    x = keras.layers.TimeDistributed(keras.layers.Dense(10))(x)\n",
    "    print(x.shape)\n",
    "    return x\n",
    "\n",
    "\n",
    "model()"
   ]
  }
 ],
 "metadata": {
  "kernelspec": {
   "display_name": ".venv",
   "language": "python",
   "name": "python3"
  },
  "language_info": {
   "codemirror_mode": {
    "name": "ipython",
    "version": 3
   },
   "file_extension": ".py",
   "mimetype": "text/x-python",
   "name": "python",
   "nbconvert_exporter": "python",
   "pygments_lexer": "ipython3",
   "version": "3.10.12"
  }
 },
 "nbformat": 4,
 "nbformat_minor": 2
}
